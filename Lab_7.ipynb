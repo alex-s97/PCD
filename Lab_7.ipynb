{
 "cells": [
  {
   "cell_type": "code",
   "execution_count": 1,
   "metadata": {},
   "outputs": [],
   "source": [
    "CFList=[-1000, 200, 200, 300, 500]\n",
    "r= 0.04"
   ]
  },
  {
   "cell_type": "code",
   "execution_count": 2,
   "metadata": {},
   "outputs": [
    {
     "name": "stdout",
     "output_type": "stream",
     "text": [
      "71.3199380273798\n"
     ]
    }
   ],
   "source": [
    "NPV=0\n",
    "for i,j in enumerate(CFList):\n",
    "    NPV+=j/(1+r)**i\n",
    "print(NPV)    "
   ]
  },
  {
   "cell_type": "code",
   "execution_count": 3,
   "metadata": {},
   "outputs": [
    {
     "name": "stdout",
     "output_type": "stream",
     "text": [
      "71.3199380273798\n"
     ]
    }
   ],
   "source": [
    "def NPV(CFList,r):\n",
    "    NPV=0\n",
    "    for i,j in enumerate(CFList):\n",
    "        NPV+=j/(1+r)**i\n",
    "    return(NPV)\n",
    "print(NPV(CFList,r))   "
   ]
  },
  {
   "cell_type": "code",
   "execution_count": 18,
   "metadata": {},
   "outputs": [
    {
     "data": {
      "text/plain": [
       "981.5642937819581"
      ]
     },
     "execution_count": 18,
     "metadata": {},
     "output_type": "execute_result"
    }
   ],
   "source": [
    "def irr(CFList,iter=100):\n",
    "    rate = 1.0\n",
    "    for i in range(1,iter+1):\n",
    "        rate*=(1-NPV(CFList,r)/CFList[0])\n",
    "    return rate\n",
    "irr(CFList)"
   ]
  }
 ],
 "metadata": {
  "kernelspec": {
   "display_name": "Python 3",
   "language": "python",
   "name": "python3"
  },
  "language_info": {
   "codemirror_mode": {
    "name": "ipython",
    "version": 3
   },
   "file_extension": ".py",
   "mimetype": "text/x-python",
   "name": "python",
   "nbconvert_exporter": "python",
   "pygments_lexer": "ipython3",
   "version": "3.7.3"
  }
 },
 "nbformat": 4,
 "nbformat_minor": 4
}

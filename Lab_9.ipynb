{
 "cells": [
  {
   "cell_type": "markdown",
   "metadata": {},
   "source": [
    "# lab 9\n",
    "\n",
    "Suppose you have the follwoing payoff matriz of a prisoner's dilemna\n",
    "$$\\begin{bmatrix} (2,2) & (0,3) \\\\ (3,0) & (1,1)  \\end{bmatrix}$$\n",
    "\n",
    "Player 0 may play 0 or 1 and player 1 may play 0 or 1. 0 is cooperate (our peace), 1 is not cooperate (war).\n"
   ]
  },
  {
   "cell_type": "markdown",
   "metadata": {},
   "source": [
    "**1.** Create a function that receives results from each one of the player and gives as results a tuple with the results."
   ]
  },
  {
   "cell_type": "code",
   "execution_count": 1,
   "metadata": {},
   "outputs": [
    {
     "data": {
      "text/plain": [
       "(0, 3)"
      ]
     },
     "execution_count": 1,
     "metadata": {},
     "output_type": "execute_result"
    }
   ],
   "source": [
    "payoff= [[(2,2),(0,3)], \n",
    "         [(3,0),(1,1)]]\n",
    "def results(player0,player1):\n",
    "    return payoff[player0][player1]\n",
    "results(0,1)"
   ]
  },
  {
   "cell_type": "markdown",
   "metadata": {},
   "source": [
    "**2.** Player 0 is the user that chooses between 0 a 1. Player 1 is a computer. Result is randomly generated.  "
   ]
  },
  {
   "cell_type": "code",
   "execution_count": 2,
   "metadata": {},
   "outputs": [],
   "source": [
    "import random"
   ]
  },
  {
   "cell_type": "code",
   "execution_count": 3,
   "metadata": {},
   "outputs": [
    {
     "name": "stdin",
     "output_type": "stream",
     "text": [
      "1 - war or 0 - peace 0\n"
     ]
    },
    {
     "name": "stdout",
     "output_type": "stream",
     "text": [
      "1\n",
      "player 0: 0\n",
      "player1: 1\n",
      "(0, 3)\n",
      "My result: 0\n"
     ]
    }
   ],
   "source": [
    "player0=int(input(\"1 - war or 0 - peace\"))\n",
    "player1=random.randint(0,1)\n",
    "\n",
    "print(player1)\n",
    "print(\"player 0: \"+str(player0))\n",
    "print(\"player1: \"+str(player1))\n",
    "\n",
    "a=results(player0,player1)\n",
    "print(a)\n",
    "print(\"My result: \"+str(a[0]))"
   ]
  },
  {
   "cell_type": "markdown",
   "metadata": {},
   "source": [
    "**3.** Calculate the accumulated value resulting from an iterative game (10 iterations)"
   ]
  },
  {
   "cell_type": "code",
   "execution_count": 4,
   "metadata": {},
   "outputs": [
    {
     "name": "stdin",
     "output_type": "stream",
     "text": [
      "1 - war or 0 - peace 0\n"
     ]
    },
    {
     "name": "stdout",
     "output_type": "stream",
     "text": [
      "player 0: 0\n",
      "player1: 0\n",
      "(2, 2)\n",
      "My result: 2\n"
     ]
    },
    {
     "name": "stdin",
     "output_type": "stream",
     "text": [
      "1 - war or 0 - peace 0\n"
     ]
    },
    {
     "name": "stdout",
     "output_type": "stream",
     "text": [
      "player 0: 0\n",
      "player1: 0\n",
      "(2, 2)\n",
      "My result: 4\n"
     ]
    },
    {
     "name": "stdin",
     "output_type": "stream",
     "text": [
      "1 - war or 0 - peace 0\n"
     ]
    },
    {
     "name": "stdout",
     "output_type": "stream",
     "text": [
      "player 0: 0\n",
      "player1: 0\n",
      "(2, 2)\n",
      "My result: 6\n"
     ]
    },
    {
     "name": "stdin",
     "output_type": "stream",
     "text": [
      "1 - war or 0 - peace 0\n"
     ]
    },
    {
     "name": "stdout",
     "output_type": "stream",
     "text": [
      "player 0: 0\n",
      "player1: 1\n",
      "(0, 3)\n",
      "My result: 6\n"
     ]
    },
    {
     "name": "stdin",
     "output_type": "stream",
     "text": [
      "1 - war or 0 - peace 0\n"
     ]
    },
    {
     "name": "stdout",
     "output_type": "stream",
     "text": [
      "player 0: 0\n",
      "player1: 0\n",
      "(2, 2)\n",
      "My result: 8\n"
     ]
    },
    {
     "name": "stdin",
     "output_type": "stream",
     "text": [
      "1 - war or 0 - peace 0\n"
     ]
    },
    {
     "name": "stdout",
     "output_type": "stream",
     "text": [
      "player 0: 0\n",
      "player1: 1\n",
      "(0, 3)\n",
      "My result: 8\n"
     ]
    },
    {
     "name": "stdin",
     "output_type": "stream",
     "text": [
      "1 - war or 0 - peace 0\n"
     ]
    },
    {
     "name": "stdout",
     "output_type": "stream",
     "text": [
      "player 0: 0\n",
      "player1: 1\n",
      "(0, 3)\n",
      "My result: 8\n"
     ]
    },
    {
     "name": "stdin",
     "output_type": "stream",
     "text": [
      "1 - war or 0 - peace 0\n"
     ]
    },
    {
     "name": "stdout",
     "output_type": "stream",
     "text": [
      "player 0: 0\n",
      "player1: 1\n",
      "(0, 3)\n",
      "My result: 8\n"
     ]
    },
    {
     "name": "stdin",
     "output_type": "stream",
     "text": [
      "1 - war or 0 - peace 0\n"
     ]
    },
    {
     "name": "stdout",
     "output_type": "stream",
     "text": [
      "player 0: 0\n",
      "player1: 0\n",
      "(2, 2)\n",
      "My result: 10\n"
     ]
    },
    {
     "name": "stdin",
     "output_type": "stream",
     "text": [
      "1 - war or 0 - peace 0\n"
     ]
    },
    {
     "name": "stdout",
     "output_type": "stream",
     "text": [
      "player 0: 0\n",
      "player1: 1\n",
      "(0, 3)\n",
      "My result: 10\n"
     ]
    }
   ],
   "source": [
    "value=0\n",
    "for i in range(0,10):\n",
    "    player0=int(input(\"1 - war or 0 - peace\"))\n",
    "    player1=random.randint(0,1)\n",
    "    print(\"player 0: \"+str(player0))\n",
    "    print(\"player1: \"+str(player1))\n",
    "    a=results(player0,player1)\n",
    "    print(a)\n",
    "    value=value+a[0]\n",
    "    print(\"My result: \" + str(value))"
   ]
  }
 ],
 "metadata": {
  "kernelspec": {
   "display_name": "Python 3",
   "language": "python",
   "name": "python3"
  },
  "language_info": {
   "codemirror_mode": {
    "name": "ipython",
    "version": 3
   },
   "file_extension": ".py",
   "mimetype": "text/x-python",
   "name": "python",
   "nbconvert_exporter": "python",
   "pygments_lexer": "ipython3",
   "version": "3.7.3"
  }
 },
 "nbformat": 4,
 "nbformat_minor": 4
}

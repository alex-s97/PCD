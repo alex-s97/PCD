{
 "cells": [
  {
   "cell_type": "code",
   "execution_count": 1,
   "metadata": {},
   "outputs": [
    {
     "name": "stdin",
     "output_type": "stream",
     "text": [
      "Introduzir a nota:  20\n"
     ]
    },
    {
     "name": "stdout",
     "output_type": "stream",
     "text": [
      "Nota válida!\n"
     ]
    }
   ],
   "source": [
    "# Pedir ao utilizador para colocar nota e verificar se nota é validade\n",
    "grade=int(input(\"Introduzir a nota: \"))\n",
    "if 0<grade<21:\n",
    "    print(\"Nota válida!\")\n",
    "else:\n",
    "    print(\"Nota inválida.\")"
   ]
  },
  {
   "cell_type": "code",
   "execution_count": 2,
   "metadata": {},
   "outputs": [
    {
     "name": "stdin",
     "output_type": "stream",
     "text": [
      "Insira uma letra:  b\n"
     ]
    },
    {
     "name": "stdout",
     "output_type": "stream",
     "text": [
      "Consoante.\n"
     ]
    }
   ],
   "source": [
    "# verificar se letra introduzida é vogal ou consoante\n",
    "Letra=input(\"Insira uma letra: \")\n",
    "if Letra==\"a\" or Letra==\"e\" or Letra==\"i\" or Letra==\"o\" or Letra==\"u\":\n",
    "    print(\"Vogal.\")\n",
    "else:\n",
    "    print(\"Consoante.\")"
   ]
  },
  {
   "cell_type": "code",
   "execution_count": 3,
   "metadata": {},
   "outputs": [
    {
     "name": "stdin",
     "output_type": "stream",
     "text": [
      "Escolha um número: 8\n"
     ]
    },
    {
     "name": "stdout",
     "output_type": "stream",
     "text": [
      "[8, 16, 24, 32, 40, 48, 56, 64, 72, 80]\n"
     ]
    }
   ],
   "source": [
    "# gerar tabuada de um numero à escolha do utilizador\n",
    "number=int(input(\"Escolha um número:\"))\n",
    "tabuada=[]\n",
    "for i in range(1,11):\n",
    "    tabuada.append(number*i)\n",
    "print(tabuada)"
   ]
  },
  {
   "cell_type": "code",
   "execution_count": 4,
   "metadata": {},
   "outputs": [
    {
     "name": "stdin",
     "output_type": "stream",
     "text": [
      "Introduzir ano:  2020\n"
     ]
    },
    {
     "name": "stdout",
     "output_type": "stream",
     "text": [
      "Ano bissexto!\n"
     ]
    }
   ],
   "source": [
    "# verificar se ano é bissexto \n",
    "ano=int(input(\"Introduzir ano: \"))\n",
    "if ano%4==0:\n",
    "    print(\"Ano bissexto!\")\n",
    "else:\n",
    "    print(\"Ano normal.\")"
   ]
  },
  {
   "cell_type": "code",
   "execution_count": 5,
   "metadata": {},
   "outputs": [
    {
     "name": "stdin",
     "output_type": "stream",
     "text": [
      "Introduzir valor:  5\n"
     ]
    },
    {
     "name": "stdout",
     "output_type": "stream",
     "text": [
      "Valor ímpar.\n"
     ]
    }
   ],
   "source": [
    "# verificar se valor é par ou impar\n",
    "valor=int(input(\"Introduzir valor: \"))\n",
    "if valor%2==0:\n",
    "    print(\"Valor par.\")\n",
    "else:\n",
    "    print(\"Valor ímpar.\")"
   ]
  },
  {
   "cell_type": "code",
   "execution_count": 6,
   "metadata": {},
   "outputs": [
    {
     "name": "stdin",
     "output_type": "stream",
     "text": [
      "Quantos números quer inserir? 2\n",
      "Introduzir número:  8\n",
      "Introduzir número:  4\n"
     ]
    },
    {
     "name": "stdout",
     "output_type": "stream",
     "text": [
      "Soma: 12\n",
      "Média: 6.0\n"
     ]
    }
   ],
   "source": [
    "#fazer soma e média de n números introduzidos pelo utilizador\n",
    "n=input(\"Quantos números quer inserir?\")\n",
    "soma=0\n",
    "for i in range(0,int(n)):\n",
    "    número=int(input(\"Introduzir número: \"))\n",
    "    soma+=número\n",
    "print(\"Soma: \" + str(soma))\n",
    "print(\"Média: \"+ str(soma/int(n)))"
   ]
  },
  {
   "cell_type": "code",
   "execution_count": 7,
   "metadata": {},
   "outputs": [
    {
     "name": "stdin",
     "output_type": "stream",
     "text": [
      "Introduzir número:  90\n",
      "Introduzir número:  69\n",
      "Introduzir número:  57\n"
     ]
    },
    {
     "name": "stdout",
     "output_type": "stream",
     "text": [
      "Número maior: 90\n",
      "Número menor: 57\n",
      "Média: 72.0\n"
     ]
    }
   ],
   "source": [
    "# Pedir ao utilizador um numero determinado de valores, calcular o menor, o maior e a média\n",
    "z=3\n",
    "soma=0\n",
    "lista=[]\n",
    "for k in range(0,z):\n",
    "    número=int(input(\"Introduzir número: \"))\n",
    "    soma+=número\n",
    "    lista.append(número)\n",
    "print(\"Número maior: \" + str(max(lista)))\n",
    "print(\"Número menor: \" +str(min(lista)))\n",
    "print(\"Média: \"+str(soma/z))"
   ]
  },
  {
   "cell_type": "code",
   "execution_count": 8,
   "metadata": {},
   "outputs": [
    {
     "name": "stdin",
     "output_type": "stream",
     "text": [
      "Inserir número:  13\n"
     ]
    },
    {
     "name": "stdout",
     "output_type": "stream",
     "text": [
      "Número primo.\n"
     ]
    }
   ],
   "source": [
    "#verificar se numero é primo\n",
    "numero=int(input(\"Inserir número: \"))\n",
    "lista=[]\n",
    "for i in range(1,numero+1):\n",
    "    if numero%i==0:\n",
    "        lista.append(i)\n",
    "if len(lista)==2:\n",
    "    print(\"Número primo.\")\n",
    "else:\n",
    "    print(\"Não é primo.\")"
   ]
  },
  {
   "cell_type": "code",
   "execution_count": 9,
   "metadata": {},
   "outputs": [
    {
     "name": "stdin",
     "output_type": "stream",
     "text": [
      "Quantas pessoa deseja inserir?  2\n",
      "Nome: Alex\n",
      "Idade:  22\n",
      "Nome: Miguel\n",
      "Idade:  22\n"
     ]
    },
    {
     "data": {
      "text/plain": [
       "[['Alex', '22'], ['Miguel', '22']]"
      ]
     },
     "execution_count": 9,
     "metadata": {},
     "output_type": "execute_result"
    }
   ],
   "source": [
    "#Criar lista com lista indicando nome e idade da pessoa\n",
    "listaPessoas=[]\n",
    "n=int(input(\"Quantas pessoa deseja inserir? \"))\n",
    "for i in range(0,n):\n",
    "    pessoa=[]\n",
    "    pessoa.append(input(\"Nome:\"))\n",
    "    pessoa.append(input(\"Idade: \"))\n",
    "    listaPessoas.append(pessoa)\n",
    "listaPessoas"
   ]
  }
 ],
 "metadata": {
  "kernelspec": {
   "display_name": "Python 3",
   "language": "python",
   "name": "python3"
  },
  "language_info": {
   "codemirror_mode": {
    "name": "ipython",
    "version": 3
   },
   "file_extension": ".py",
   "mimetype": "text/x-python",
   "name": "python",
   "nbconvert_exporter": "python",
   "pygments_lexer": "ipython3",
   "version": "3.7.3"
  }
 },
 "nbformat": 4,
 "nbformat_minor": 4
}
